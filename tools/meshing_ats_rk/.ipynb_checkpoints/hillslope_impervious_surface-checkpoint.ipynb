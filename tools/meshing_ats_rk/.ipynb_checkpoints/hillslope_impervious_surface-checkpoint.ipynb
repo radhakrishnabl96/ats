{
 "cells": [
  {
   "cell_type": "markdown",
   "metadata": {},
   "source": [
    "This script generates hillslope mesh with a varying organic layer thickness at the top."
   ]
  },
  {
   "cell_type": "code",
   "execution_count": 1,
   "metadata": {},
   "outputs": [],
   "source": [
    "import sys,os\n",
    "sys.path.append(os.path.join(os.environ['ATS_SRC_DIR'],'tools','meshing_ats'))\n",
    "import meshing_ats\n",
    "\n",
    "import numpy as np\n",
    "from matplotlib import pyplot as plt\n",
    "%matplotlib inline"
   ]
  },
  {
   "cell_type": "code",
   "execution_count": 2,
   "metadata": {},
   "outputs": [
    {
     "name": "stdout",
     "output_type": "stream",
     "text": [
      "# of x and z elemets:  101 ,  101\n",
      "# of cells:  100\n"
     ]
    },
    {
     "data": {
      "image/png": "[encoded data removed]",
      "text/plain": [
       "<matplotlib.figure.Figure at 0x10b1fcd10>"
      ]
     },
     "metadata": {},
     "output_type": "display_data"
    }
   ],
   "source": [
    "# 1 km long hillslope, 10% slope\n",
    "x = np.linspace(0,1000,101)\n",
    "z = 100 - 0.1*x\n",
    "print '# of x and z elemets: ',len(x),', ',len(z)\n",
    "plt.plot(x,z); plt.xlabel('x distance (m)'); plt.ylabel('z elevation (m)')\n",
    "m2 = meshing_ats.Mesh2D.from_Transect(x,z)\n",
    "print '# of cells: ', m2.num_cells()"
   ]
  },
  {
   "cell_type": "code",
   "execution_count": 3,
   "metadata": {},
   "outputs": [
    {
     "data": {
      "image/png": "[encoded data removed]",
      "text/plain": [
       "<matplotlib.figure.Figure at 0x10b1fc5d0>"
      ]
     },
     "metadata": {},
     "output_type": "display_data"
    }
   ],
   "source": [
    "# Changing organic layer thickness \n",
    "def organic_thickness(x):\n",
    "    \"\"\"This function is the thickness of the layer we want to vary\"\"\"\n",
    "    if x < 100:\n",
    "        thickness = 0.5\n",
    "    elif ((100 <= x) and (x <= 200)):\n",
    "        thickness = -0.0045*x + 0.95\n",
    "    elif ((200 < x) and (x < 800)):\n",
    "        thickness = 0.05\n",
    "    elif ((800 <= x) and (x <= 900)):\n",
    "        thickness = 0.0025*x - 1.95\n",
    "    else:\n",
    "        thickness = 0.3\n",
    "    return thickness\n",
    "\n",
    "org_layer_thickness = np.array([organic_thickness(xx) for xx in m2.coords[:,0]])\n",
    "plt.plot(x, org_layer_thickness[0:101]); plt.xlabel('x distance (m)'); plt.ylabel('org. layer thickness (m)');\n"
   ]
  },
  {
   "cell_type": "code",
   "execution_count": 4,
   "metadata": {},
   "outputs": [],
   "source": [
    "# preparing layer extrusion data for meshing_ats\n",
    "#\n",
    "# Meshes are extruded in the vertical by \"layer\", where a layer may \n",
    "# consist of multiple cells in the z direction.  These layers are \n",
    "# logical unit to make construction easier, and may or may not \n",
    "# correspond to material type (organic/mineral soil).\n",
    "# \n",
    "# The extrusion process is then given four lists, each of length\n",
    "# num_layers.\n",
    "#\n",
    "layer_types = []  # a list of strings that tell the extruding \n",
    "                  # code how to do the layers.  See meshing_ats \n",
    "                  # documentation for more, but here we will use\n",
    "                  # only \"constant\", which means that dz within\n",
    "                  # the layer is constant.\n",
    "\n",
    "layer_data = []   # this data depends upon the layer type, but\n",
    "                  # for constant is the thickness of the layer\n",
    "\n",
    "layer_ncells = [] # number of cells (in the vertical) in the layer.\n",
    "                  # The dz of each cell is the layer thickness / number of cells.\n",
    "\n",
    "layer_mat_ids = []# The material ID.  This may be either a constant int (for\n",
    "                  # unform layering) or an array of size [ncells_vertical x ncells_horizontal] in the layer \n",
    "                  # where each entry corresponds to the material ID of that cell.\n",
    "\n",
    "layer_depth = []  # used later to get the mat ids right, just for bookkeeping\n",
    "        \n",
    "# here we will only use 1 cell per layer, so layer thickness = dz.\n",
    "# We will also telescope the mesh, starting at 1cm grid cell and growing it larger in each layer.\n",
    "dz = .01\n",
    "i = 0\n",
    "current_depth = 0\n",
    "while dz < 2:\n",
    "    if i<=20:            #organic\n",
    "        dz *= 1.2\n",
    "    elif (20<i)&(i<=26): #mineral\n",
    "        dz *= 1.4\n",
    "    else:                #bedrock\n",
    "        dz *= 1.5\n",
    "    layer_types.append(\"constant\")\n",
    "    layer_data.append(dz)\n",
    "    layer_ncells.append(1)\n",
    "    current_depth += dz\n",
    "    layer_depth.append(current_depth)\n",
    "    i += 1\n",
    "    \n",
    "# now add in a bunch of cells to reach 45 m, of equal dz that is ~2m.\n",
    "num_of_layers=len(layer_data)\n",
    "layer_types.append('constant')\n",
    "layer_data.append(45 - sum(layer_data))  # note sum(layer_data) == the total mesh thickness at this point\n",
    "layer_ncells.append(int(np.floor(layer_data[-1]/dz)))\n",
    "layer_depth.append(45)\n"
   ]
  },
  {
   "cell_type": "code",
   "execution_count": 5,
   "metadata": {},
   "outputs": [
    {
     "name": "stdout",
     "output_type": "stream",
     "text": [
      "# of rows, # of cells: (40, 100)\n"
     ]
    }
   ],
   "source": [
    "# allocate 2D matrix with cols=#cells, rows=21\n",
    "mat_ids=np.zeros((m2.num_cells(), 21), 'i')\n",
    "for i in range(m2.num_cells()):\n",
    "    for j in range(21): # after layer 20 everything is bedrock\n",
    "        if (layer_depth[j] < org_layer_thickness[i]):\n",
    "            mat_ids[i,j]=1001\n",
    "        else:\n",
    "            mat_ids[i,j]=1002\n",
    "            \n",
    "# filling out layer_mat_ids\n",
    "layer_mat_ids = []\n",
    "for j in range(21):\n",
    "    layer_mat_ids.append(mat_ids[:,j])\n",
    "for j in range(21,sum(layer_ncells)):\n",
    "    layer_mat_ids.append(101*np.ones((100,),'i'))\n",
    "\n",
    "print '# of rows, # of cells:', np.shape(layer_mat_ids)"
   ]
  },
  {
   "cell_type": "code",
   "execution_count": 6,
   "metadata": {},
   "outputs": [
    {
     "name": "stdout",
     "output_type": "stream",
     "text": [
      "\n",
      "You are using exodus.py v 1.05 (beta-cmake), a python wrapper of some of the exodus II library.\n",
      "\n",
      "Copyright (c) 2013, 2014, 2015, 2016, 2017 National Technology &\n",
      "Engineering Solutions of Sandia, LLC (NTESS).  Under the terms of\n",
      "Contract DE-NA0003525 with NTESS, the U.S. Government retains certain\n",
      "rights in this software.  \n",
      "\n",
      "Opening exodus file: test_organic_highres.exo\n",
      "Closing exodus file: test_organic_highres.exo\n"
     ]
    }
   ],
   "source": [
    "# make the mesh, save it as an exodus file\n",
    "m3 = meshing_ats.Mesh3D.extruded_Mesh2D(m2, layer_types,layer_data, layer_ncells, layer_mat_ids)\n",
    "m3.write_exodus(\"test_organic_highres.exo\")"
   ]
  },
  {
   "cell_type": "code",
   "execution_count": 7,
   "metadata": {},
   "outputs": [
    {
     "name": "stdout",
     "output_type": "stream",
     "text": [
      "# of cells:  1\n"
     ]
    }
   ],
   "source": [
    "# Make a column that is the same as the deepest organic layer thickness for use in spinup.\n",
    "# 1 km long hillslope, 10% slope\n",
    "xc = np.array([0,1])\n",
    "zc = np.array([0,0])\n",
    "m2c = meshing_ats.Mesh2D.from_Transect(xc,zc)\n",
    "print '# of cells: ', m2c.num_cells()"
   ]
  },
  {
   "cell_type": "code",
   "execution_count": 8,
   "metadata": {},
   "outputs": [
    {
     "name": "stdout",
     "output_type": "stream",
     "text": [
      "[1001, 1001, 1001, 1002, 1002, 1002, 1002, 1002, 1002, 1002, 1002, 1002, 1002, 1002, 1002, 1002, 1002, 1002, 1002, 1002, 1002, 101, 101, 101, 101, 101, 101, 101, 101, 101, 101, 101, 101, 101, 101, 101, 101, 101, 101, 101]\n"
     ]
    }
   ],
   "source": [
    "column_mat_ids = [lmi[50] for lmi in layer_mat_ids]\n",
    "print column_mat_ids"
   ]
  },
  {
   "cell_type": "code",
   "execution_count": 9,
   "metadata": {},
   "outputs": [
    {
     "name": "stdout",
     "output_type": "stream",
     "text": [
      "\n",
      "You are using exodus.py v 1.05 (beta-cmake), a python wrapper of some of the exodus II library.\n",
      "\n",
      "Copyright (c) 2013, 2014, 2015, 2016, 2017 National Technology &\n",
      "Engineering Solutions of Sandia, LLC (NTESS).  Under the terms of\n",
      "Contract DE-NA0003525 with NTESS, the U.S. Government retains certain\n",
      "rights in this software.  \n",
      "\n",
      "Opening exodus file: test_organic_highres_column.exo\n",
      "Closing exodus file: test_organic_highres_column.exo\n"
     ]
    }
   ],
   "source": [
    "m3c = meshing_ats.Mesh3D.extruded_Mesh2D(m2c, layer_types,layer_data, layer_ncells, column_mat_ids)\n",
    "m3c.write_exodus(\"test_organic_highres_column.exo\")"
   ]
  },
  {
   "cell_type": "code",
   "execution_count": null,
   "metadata": {
    "collapsed": true
   },
   "outputs": [],
   "source": []
  }
 ],
 "metadata": {
  "anaconda-cloud": {},
  "kernelspec": {
   "display_name": "Python 2",
   "language": "python",
   "name": "python2"
  },
  "language_info": {
   "codemirror_mode": {
    "name": "ipython",
    "version": 2
   },
   "file_extension": ".py",
   "mimetype": "text/x-python",
   "name": "python",
   "nbconvert_exporter": "python",
   "pygments_lexer": "ipython2",
   "version": "2.7.14"
  }
 },
 "nbformat": 4,
 "nbformat_minor": 1
}
