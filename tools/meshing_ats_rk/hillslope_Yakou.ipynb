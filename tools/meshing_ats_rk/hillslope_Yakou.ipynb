{
 "cells": [
  {
   "cell_type": "markdown",
   "metadata": {},
   "source": [
    "This script generates hillslope with the following parameters:\n",
    "#### Step 1 - The surface with 20° slope\n",
    "##### Length of the catchment = 1000 m, slope = 20°, dx_surface = 10 m, dz_surface =  2 m? or defined later in step 2?\n",
    "#### Step 2 - The vertical cross-section [along a single column]\n",
    "#### Step 3:Allocate 2D matrix with unique IDs based on the layer\n",
    "#### For organic layer - 1001, mineral layer = 1002, bedrock = 1003 \n",
    "\n",
    "##### Note that the maximum depth of the layers is considered for allocating the IDs "
   ]
  },
  {
   "cell_type": "code",
   "execution_count": 2,
   "metadata": {},
   "outputs": [],
   "source": [
    "import sys,os\n",
    "sys.path.append(os.path.join(os.environ['ATS_SRC_DIR'],'tools','meshing_ats'))\n",
    "#sys.path.append(os.path.join(os.environ['ATS_SRC_DIR'],'tools','meshing_ats_new'))\n",
    "import meshing_ats\n",
    "#import meshing_ats_new\n",
    "\n",
    "import meshing_ats_2\n",
    "import numpy as np\n",
    "from matplotlib import pyplot as plt\n",
    "%matplotlib inline"
   ]
  },
  {
   "cell_type": "code",
   "execution_count": 3,
   "metadata": {},
   "outputs": [
    {
     "data": {
      "text/plain": [
       "<module 'meshing_ats_2' from '/home/rk/ats_rk/amanzi/src/physics/ats/tools/meshing_ats_rk/meshing_ats_2.py'>"
      ]
     },
     "execution_count": 3,
     "metadata": {},
     "output_type": "execute_result"
    }
   ],
   "source": [
    "import importlib\n",
    "importlib.reload(meshing_ats)\n",
    "importlib.reload(meshing_ats_2)"
   ]
  },
  {
   "cell_type": "markdown",
   "metadata": {
    "collapsed": true
   },
   "source": [
    "### Defining the geometry and meshing for the Yakou catchement"
   ]
  },
  {
   "cell_type": "markdown",
   "metadata": {},
   "source": [
    "#### Step 1 - The surface with 20° slope\n",
    "##### Length of the catchment = 1000 m, slope = 20°, dx_surface = 10 m, dz_surface =  2 m? or defined later in step 2?"
   ]
  },
  {
   "cell_type": "code",
   "execution_count": 4,
   "metadata": {
    "scrolled": true
   },
   "outputs": [
    {
     "name": "stdout",
     "output_type": "stream",
     "text": [
      "# of x and z elements:  101 ,  101\n",
      "# of cells:  100\n"
     ]
    },
    {
     "data": {
      "image/png": "[encoded data removed]",
      "text/plain": [
       "<Figure size 432x288 with 1 Axes>"
      ]
     },
     "metadata": {
      "needs_background": "light"
     },
     "output_type": "display_data"
    }
   ],
   "source": [
    "# 1 km long hillslope, 20% slope\n",
    "x = np.linspace(0,1000,101)\n",
    "z = 200 - 0.2*x \n",
    "# Gradient = 200/1000 = 0.2\n",
    "print ('# of x and z elements: ',len(x),', ',len(z))\n",
    "plt.plot(x,z)\n",
    "plt.xlabel('x distance (m)')\n",
    "plt.ylabel('z elevation (m)')\n",
    "m2 = meshing_ats_2.Mesh2D.from_Transect(x,z) # Creates a recatangular mesh with x + z nodes, x - 1 number of cells\n",
    "print ('# of cells: ', m2.num_cells())"
   ]
  },
  {
   "cell_type": "markdown",
   "metadata": {},
   "source": [
    "#### Step 2 - The vertical cross-section [along a single column]"
   ]
  },
  {
   "cell_type": "code",
   "execution_count": 5,
   "metadata": {},
   "outputs": [],
   "source": [
    "### To define the vertical properties of the Yakou catchment (Assumptions)\n",
    "\n",
    "\n",
    "layer_types_yakou = [] # Assuming 'constant' for each layers, i.e. dz within the layer is constant -\n",
    "                       # Q - What other options are available?\n",
    "\n",
    "layer_data_yakou = [] # this data depends upon the layer type, but\n",
    "                # for constant is the thickness of the layer\n",
    "\n",
    "layer_ncells_yakou = [] # number of cells (in the vertical) in the layer.\n",
    "                        # The dz of each cell is the layer thickness / number of cells. - Why is it required?\n",
    "\n",
    "layer_mat_ids_yakou = [] # The material ID.  This may be either a constant int (for\n",
    "                   # unform layering) or an array of size [ncells_vertical x ncells_horizontal] in the layer \n",
    "                  # where each entry corresponds to the material ID of that cell.\n",
    "\n",
    "layer_depth_yakou = []  # used later to get the mat ids right, just for bookkeeping\n",
    "\n",
    "# We are considering 3 layers - Organic layer, Mineral layer, Bedrock\n",
    "# Requirement to find the depth of the individual layers - \n",
    "# Research articles! (Conduct ERT/IP experiments and geological experiments)\n",
    "### Assuming the lower depth of each layers:\n",
    "\n",
    "depth_org_layer = 0.60 # m\n",
    "depth_mineral_layer = 30 # m\n",
    "depth_bedrock = 40 # m\n",
    "        \n",
    "# Starting length of each vertical cell, dz = 0.01\n",
    "# We will also telescope the mesh, starting at 0.01 m grid cell and growing it larger in each layer.\n",
    "# The dz values vary as such, For the organic layer - 1.2, mineral layer - 1.4, Bedrock - 1.5 \n",
    "# Can change the values later and check if the results are affected\n",
    "\n",
    "dz = 0.01\n",
    "i = 0\n",
    "current_depth = 0\n",
    "\n",
    "while current_depth <= depth_bedrock:\n",
    "    if (current_depth >= 0) & (current_depth <= depth_org_layer):     # organic\n",
    "        dz *= 1.2 \n",
    "    elif (current_depth > depth_org_layer) & (current_depth <= depth_mineral_layer): # mineral\n",
    "        dz *= 1.4\n",
    "    elif (current_depth > depth_mineral_layer) & (current_depth < depth_bedrock): # bedrock\n",
    "        dz *= 1.5\n",
    "    layer_types_yakou.append(\"constant\")\n",
    "    layer_data_yakou.append(dz) # Thickness of all the dz's will be added in the numpy array \n",
    "    layer_ncells_yakou.append(1) # Why append only 1? - Is'nt it the dz value?\n",
    "    current_depth += dz\n",
    "    layer_depth_yakou.append(current_depth)\n",
    "    i += 1\n",
    "\n",
    "# Removing the last element from the lists as it exceeds 40 m\n",
    "layer_types_yakou.pop()\n",
    "layer_data_yakou.pop()\n",
    "#layer_ncells_yakou.pop()\n",
    "layer_depth_yakou.pop()\n",
    "\n",
    "# now add in a bunch of cells to reach 40 m\n",
    "num_of_layers=len(layer_data_yakou)\n",
    "layer_types_yakou.append('constant')\n",
    "layer_data_yakou.append(depth_bedrock - sum(layer_data_yakou))  # note sum(layer_data) == the total mesh thickness at this point\n",
    "#layer_ncells_yakou.append(int(np.floor(layer_data_yakou[-2]/dz)))\n",
    "#layer_ncells_yakou.append(1)\n",
    "layer_depth_yakou.append(depth_bedrock)\n",
    "\n",
    "# Note that the boundaries between the layers are not clearly defined"
   ]
  },
  {
   "cell_type": "code",
   "execution_count": 6,
   "metadata": {},
   "outputs": [
    {
     "name": "stdout",
     "output_type": "stream",
     "text": [
      "28\n"
     ]
    }
   ],
   "source": [
    "print(len(layer_ncells_yakou))"
   ]
  },
  {
   "cell_type": "code",
   "execution_count": 7,
   "metadata": {},
   "outputs": [
    {
     "name": "stdout",
     "output_type": "stream",
     "text": [
      "[0.012, 0.0264, 0.04368, 0.064416, 0.0892992, 0.11915904, 0.154990848, 0.19798901759999998, 0.24958682111999997, 0.31150418534399993, 0.3858050224127999, 0.4749660268953599, 0.5819592322744318, 0.7103510787293181, 0.890099663766159, 1.1417476828177362, 1.4940549094899442, 1.9872850268310356, 2.6778071911085632, 3.6445382210971022, 4.997961663081057, 6.892754481858592, 9.545464428147142, 13.259258352951111, 18.458569847676667, 25.737605940292447, 35.92825646995453, 40]\n"
     ]
    }
   ],
   "source": [
    "print(layer_depth_yakou)"
   ]
  },
  {
   "cell_type": "code",
   "execution_count": 8,
   "metadata": {},
   "outputs": [],
   "source": [
    "### Another idea for layering:\n",
    "# Consider constant cell size"
   ]
  },
  {
   "cell_type": "code",
   "execution_count": 9,
   "metadata": {},
   "outputs": [
    {
     "data": {
      "text/plain": [
       "Text(0.5, 0, 'Cell number')"
      ]
     },
     "execution_count": 9,
     "metadata": {},
     "output_type": "execute_result"
    },
    {
     "data": {
      "image/png": "[encoded data removed]",
      "text/plain": [
       "<Figure size 432x288 with 1 Axes>"
      ]
     },
     "metadata": {
      "needs_background": "light"
     },
     "output_type": "display_data"
    }
   ],
   "source": [
    "plt.plot(layer_depth_yakou)\n",
    "plt.ylabel('layer depth - z (in m)')\n",
    "plt.xlabel('Cell number')"
   ]
  },
  {
   "cell_type": "markdown",
   "metadata": {},
   "source": [
    "#### Step 3:Allocate 2D matrix with unique IDs based on the layer\n",
    "#### For organic layer - 1001, mineral layer = 1002, bedrock = 1003 \n",
    "\n",
    "##### Note that the maximum depth of the layers is considered for allocating the IDs "
   ]
  },
  {
   "cell_type": "code",
   "execution_count": 10,
   "metadata": {},
   "outputs": [
    {
     "name": "stdout",
     "output_type": "stream",
     "text": [
      "[0.012, 0.0264, 0.04368, 0.064416, 0.0892992, 0.11915904, 0.154990848, 0.19798901759999998, 0.24958682111999997, 0.31150418534399993, 0.3858050224127999, 0.4749660268953599, 0.5819592322744318, 0.7103510787293181, 0.890099663766159, 1.1417476828177362, 1.4940549094899442, 1.9872850268310356, 2.6778071911085632, 3.6445382210971022, 4.997961663081057, 6.892754481858592, 9.545464428147142, 13.259258352951111, 18.458569847676667, 25.737605940292447, 35.92825646995453, 40]\n"
     ]
    }
   ],
   "source": [
    "print(layer_depth_yakou)"
   ]
  },
  {
   "cell_type": "code",
   "execution_count": 11,
   "metadata": {},
   "outputs": [
    {
     "name": "stdout",
     "output_type": "stream",
     "text": [
      "28\n"
     ]
    }
   ],
   "source": [
    "print(len(layer_depth_yakou))"
   ]
  },
  {
   "cell_type": "code",
   "execution_count": 12,
   "metadata": {},
   "outputs": [
    {
     "data": {
      "text/plain": [
       "100"
      ]
     },
     "execution_count": 12,
     "metadata": {},
     "output_type": "execute_result"
    }
   ],
   "source": [
    "m2.num_cells()"
   ]
  },
  {
   "cell_type": "code",
   "execution_count": 13,
   "metadata": {},
   "outputs": [
    {
     "data": {
      "text/plain": [
       "(0.6, 30, 40)"
      ]
     },
     "execution_count": 13,
     "metadata": {},
     "output_type": "execute_result"
    }
   ],
   "source": [
    "depth_org_layer, depth_mineral_layer, depth_bedrock"
   ]
  },
  {
   "cell_type": "code",
   "execution_count": 14,
   "metadata": {},
   "outputs": [
    {
     "data": {
      "text/plain": [
       "0.012"
      ]
     },
     "execution_count": 14,
     "metadata": {},
     "output_type": "execute_result"
    }
   ],
   "source": [
    "layer_depth_yakou[0] "
   ]
  },
  {
   "cell_type": "code",
   "execution_count": 15,
   "metadata": {},
   "outputs": [],
   "source": [
    "mat_ids = np.zeros((m2.num_cells(), len(layer_depth_yakou)), 'i') # Creating a numpy array with zeros (int value)\n",
    "for i in range(m2.num_cells()):\n",
    "    for j in range(len(layer_depth_yakou)): # len(layer_depth_yakou) - Number of cells in the vertical depth\n",
    "        if (layer_depth_yakou[j] < depth_org_layer):\n",
    "            mat_ids[i,j] = 1001 # Organic layer\n",
    "        elif ((layer_depth_yakou[j] >= depth_org_layer) & (layer_depth_yakou[j] < depth_mineral_layer)):\n",
    "            mat_ids[i,j] = 1002 # Mineral layer\n",
    "        else:\n",
    "            mat_ids[i,j] = 1003 # Bedrock\n",
    "            "
   ]
  },
  {
   "cell_type": "code",
   "execution_count": 16,
   "metadata": {},
   "outputs": [
    {
     "data": {
      "text/plain": [
       "100"
      ]
     },
     "execution_count": 16,
     "metadata": {},
     "output_type": "execute_result"
    }
   ],
   "source": [
    "m2.num_cells()"
   ]
  },
  {
   "cell_type": "code",
   "execution_count": 17,
   "metadata": {},
   "outputs": [
    {
     "data": {
      "text/plain": [
       "(100,)"
      ]
     },
     "execution_count": 17,
     "metadata": {},
     "output_type": "execute_result"
    }
   ],
   "source": [
    "np.shape(mat_ids[:,25])"
   ]
  },
  {
   "cell_type": "code",
   "execution_count": 18,
   "metadata": {},
   "outputs": [],
   "source": [
    "# filling out layer_mat_ids\n",
    "layers = []\n",
    "for j in range(len(layer_depth_yakou)):\n",
    "    layers.append(mat_ids[:,j])\n",
    "#for j in range(len(layer_depth_yakou),sum(layer_ncells)):\n",
    "    #layer_mat_ids.append(101*np.ones((100,),'i'))\n",
    "\n",
    "#print('# of rows, # of cells:', np.shape(layer_mat_ids))"
   ]
  },
  {
   "cell_type": "code",
   "execution_count": 19,
   "metadata": {},
   "outputs": [
    {
     "name": "stdout",
     "output_type": "stream",
     "text": [
      "# of rows, # of cells: (28, 100)\n"
     ]
    }
   ],
   "source": [
    "# filling out layer_mat_ids\n",
    "layer_mat_ids_yakou = []\n",
    "for j in range(len(layer_depth_yakou)):\n",
    "    layer_mat_ids_yakou.append(mat_ids[:,j])\n",
    "# Q - Why is the next 2 lines of code written?\n",
    "for j in range(len(layer_depth_yakou),sum(layer_ncells_yakou)):\n",
    "    layer_mat_ids_yakou.append(101*np.ones((100,),'i'))\n",
    "\n",
    "print('# of rows, # of cells:', np.shape(layer_mat_ids_yakou))"
   ]
  },
  {
   "cell_type": "code",
   "execution_count": 20,
   "metadata": {},
   "outputs": [
    {
     "name": "stdout",
     "output_type": "stream",
     "text": [
      "[array([1001, 1001, 1001, 1001, 1001, 1001, 1001, 1001, 1001, 1001, 1001,\n",
      "       1001, 1001, 1001, 1001, 1001, 1001, 1001, 1001, 1001, 1001, 1001,\n",
      "       1001, 1001, 1001, 1001, 1001, 1001, 1001, 1001, 1001, 1001, 1001,\n",
      "       1001, 1001, 1001, 1001, 1001, 1001, 1001, 1001, 1001, 1001, 1001,\n",
      "       1001, 1001, 1001, 1001, 1001, 1001, 1001, 1001, 1001, 1001, 1001,\n",
      "       1001, 1001, 1001, 1001, 1001, 1001, 1001, 1001, 1001, 1001, 1001,\n",
      "       1001, 1001, 1001, 1001, 1001, 1001, 1001, 1001, 1001, 1001, 1001,\n",
      "       1001, 1001, 1001, 1001, 1001, 1001, 1001, 1001, 1001, 1001, 1001,\n",
      "       1001, 1001, 1001, 1001, 1001, 1001, 1001, 1001, 1001, 1001, 1001,\n",
      "       1001], dtype=int32), array([1001, 1001, 1001, 1001, 1001, 1001, 1001, 1001, 1001, 1001, 1001,\n",
      "       1001, 1001, 1001, 1001, 1001, 1001, 1001, 1001, 1001, 1001, 1001,\n",
      "       1001, 1001, 1001, 1001, 1001, 1001, 1001, 1001, 1001, 1001, 1001,\n",
      "       1001, 1001, 1001, 1001, 1001, 1001, 1001, 1001, 1001, 1001, 1001,\n",
      "       1001, 1001, 1001, 1001, 1001, 1001, 1001, 1001, 1001, 1001, 1001,\n",
      "       1001, 1001, 1001, 1001, 1001, 1001, 1001, 1001, 1001, 1001, 1001,\n",
      "       1001, 1001, 1001, 1001, 1001, 1001, 1001, 1001, 1001, 1001, 1001,\n",
      "       1001, 1001, 1001, 1001, 1001, 1001, 1001, 1001, 1001, 1001, 1001,\n",
      "       1001, 1001, 1001, 1001, 1001, 1001, 1001, 1001, 1001, 1001, 1001,\n",
      "       1001], dtype=int32), array([1001, 1001, 1001, 1001, 1001, 1001, 1001, 1001, 1001, 1001, 1001,\n",
      "       1001, 1001, 1001, 1001, 1001, 1001, 1001, 1001, 1001, 1001, 1001,\n",
      "       1001, 1001, 1001, 1001, 1001, 1001, 1001, 1001, 1001, 1001, 1001,\n",
      "       1001, 1001, 1001, 1001, 1001, 1001, 1001, 1001, 1001, 1001, 1001,\n",
      "       1001, 1001, 1001, 1001, 1001, 1001, 1001, 1001, 1001, 1001, 1001,\n",
      "       1001, 1001, 1001, 1001, 1001, 1001, 1001, 1001, 1001, 1001, 1001,\n",
      "       1001, 1001, 1001, 1001, 1001, 1001, 1001, 1001, 1001, 1001, 1001,\n",
      "       1001, 1001, 1001, 1001, 1001, 1001, 1001, 1001, 1001, 1001, 1001,\n",
      "       1001, 1001, 1001, 1001, 1001, 1001, 1001, 1001, 1001, 1001, 1001,\n",
      "       1001], dtype=int32), array([1001, 1001, 1001, 1001, 1001, 1001, 1001, 1001, 1001, 1001, 1001,\n",
      "       1001, 1001, 1001, 1001, 1001, 1001, 1001, 1001, 1001, 1001, 1001,\n",
      "       1001, 1001, 1001, 1001, 1001, 1001, 1001, 1001, 1001, 1001, 1001,\n",
      "       1001, 1001, 1001, 1001, 1001, 1001, 1001, 1001, 1001, 1001, 1001,\n",
      "       1001, 1001, 1001, 1001, 1001, 1001, 1001, 1001, 1001, 1001, 1001,\n",
      "       1001, 1001, 1001, 1001, 1001, 1001, 1001, 1001, 1001, 1001, 1001,\n",
      "       1001, 1001, 1001, 1001, 1001, 1001, 1001, 1001, 1001, 1001, 1001,\n",
      "       1001, 1001, 1001, 1001, 1001, 1001, 1001, 1001, 1001, 1001, 1001,\n",
      "       1001, 1001, 1001, 1001, 1001, 1001, 1001, 1001, 1001, 1001, 1001,\n",
      "       1001], dtype=int32), array([1001, 1001, 1001, 1001, 1001, 1001, 1001, 1001, 1001, 1001, 1001,\n",
      "       1001, 1001, 1001, 1001, 1001, 1001, 1001, 1001, 1001, 1001, 1001,\n",
      "       1001, 1001, 1001, 1001, 1001, 1001, 1001, 1001, 1001, 1001, 1001,\n",
      "       1001, 1001, 1001, 1001, 1001, 1001, 1001, 1001, 1001, 1001, 1001,\n",
      "       1001, 1001, 1001, 1001, 1001, 1001, 1001, 1001, 1001, 1001, 1001,\n",
      "       1001, 1001, 1001, 1001, 1001, 1001, 1001, 1001, 1001, 1001, 1001,\n",
      "       1001, 1001, 1001, 1001, 1001, 1001, 1001, 1001, 1001, 1001, 1001,\n",
      "       1001, 1001, 1001, 1001, 1001, 1001, 1001, 1001, 1001, 1001, 1001,\n",
      "       1001, 1001, 1001, 1001, 1001, 1001, 1001, 1001, 1001, 1001, 1001,\n",
      "       1001], dtype=int32), array([1001, 1001, 1001, 1001, 1001, 1001, 1001, 1001, 1001, 1001, 1001,\n",
      "       1001, 1001, 1001, 1001, 1001, 1001, 1001, 1001, 1001, 1001, 1001,\n",
      "       1001, 1001, 1001, 1001, 1001, 1001, 1001, 1001, 1001, 1001, 1001,\n",
      "       1001, 1001, 1001, 1001, 1001, 1001, 1001, 1001, 1001, 1001, 1001,\n",
      "       1001, 1001, 1001, 1001, 1001, 1001, 1001, 1001, 1001, 1001, 1001,\n",
      "       1001, 1001, 1001, 1001, 1001, 1001, 1001, 1001, 1001, 1001, 1001,\n",
      "       1001, 1001, 1001, 1001, 1001, 1001, 1001, 1001, 1001, 1001, 1001,\n",
      "       1001, 1001, 1001, 1001, 1001, 1001, 1001, 1001, 1001, 1001, 1001,\n",
      "       1001, 1001, 1001, 1001, 1001, 1001, 1001, 1001, 1001, 1001, 1001,\n",
      "       1001], dtype=int32), array([1001, 1001, 1001, 1001, 1001, 1001, 1001, 1001, 1001, 1001, 1001,\n",
      "       1001, 1001, 1001, 1001, 1001, 1001, 1001, 1001, 1001, 1001, 1001,\n",
      "       1001, 1001, 1001, 1001, 1001, 1001, 1001, 1001, 1001, 1001, 1001,\n",
      "       1001, 1001, 1001, 1001, 1001, 1001, 1001, 1001, 1001, 1001, 1001,\n",
      "       1001, 1001, 1001, 1001, 1001, 1001, 1001, 1001, 1001, 1001, 1001,\n",
      "       1001, 1001, 1001, 1001, 1001, 1001, 1001, 1001, 1001, 1001, 1001,\n",
      "       1001, 1001, 1001, 1001, 1001, 1001, 1001, 1001, 1001, 1001, 1001,\n",
      "       1001, 1001, 1001, 1001, 1001, 1001, 1001, 1001, 1001, 1001, 1001,\n",
      "       1001, 1001, 1001, 1001, 1001, 1001, 1001, 1001, 1001, 1001, 1001,\n",
      "       1001], dtype=int32), array([1001, 1001, 1001, 1001, 1001, 1001, 1001, 1001, 1001, 1001, 1001,\n",
      "       1001, 1001, 1001, 1001, 1001, 1001, 1001, 1001, 1001, 1001, 1001,\n",
      "       1001, 1001, 1001, 1001, 1001, 1001, 1001, 1001, 1001, 1001, 1001,\n",
      "       1001, 1001, 1001, 1001, 1001, 1001, 1001, 1001, 1001, 1001, 1001,\n",
      "       1001, 1001, 1001, 1001, 1001, 1001, 1001, 1001, 1001, 1001, 1001,\n",
      "       1001, 1001, 1001, 1001, 1001, 1001, 1001, 1001, 1001, 1001, 1001,\n",
      "       1001, 1001, 1001, 1001, 1001, 1001, 1001, 1001, 1001, 1001, 1001,\n",
      "       1001, 1001, 1001, 1001, 1001, 1001, 1001, 1001, 1001, 1001, 1001,\n",
      "       1001, 1001, 1001, 1001, 1001, 1001, 1001, 1001, 1001, 1001, 1001,\n",
      "       1001], dtype=int32), array([1001, 1001, 1001, 1001, 1001, 1001, 1001, 1001, 1001, 1001, 1001,\n",
      "       1001, 1001, 1001, 1001, 1001, 1001, 1001, 1001, 1001, 1001, 1001,\n",
      "       1001, 1001, 1001, 1001, 1001, 1001, 1001, 1001, 1001, 1001, 1001,\n",
      "       1001, 1001, 1001, 1001, 1001, 1001, 1001, 1001, 1001, 1001, 1001,\n",
      "       1001, 1001, 1001, 1001, 1001, 1001, 1001, 1001, 1001, 1001, 1001,\n",
      "       1001, 1001, 1001, 1001, 1001, 1001, 1001, 1001, 1001, 1001, 1001,\n",
      "       1001, 1001, 1001, 1001, 1001, 1001, 1001, 1001, 1001, 1001, 1001,\n",
      "       1001, 1001, 1001, 1001, 1001, 1001, 1001, 1001, 1001, 1001, 1001,\n",
      "       1001, 1001, 1001, 1001, 1001, 1001, 1001, 1001, 1001, 1001, 1001,\n",
      "       1001], dtype=int32), array([1001, 1001, 1001, 1001, 1001, 1001, 1001, 1001, 1001, 1001, 1001,\n",
      "       1001, 1001, 1001, 1001, 1001, 1001, 1001, 1001, 1001, 1001, 1001,\n",
      "       1001, 1001, 1001, 1001, 1001, 1001, 1001, 1001, 1001, 1001, 1001,\n",
      "       1001, 1001, 1001, 1001, 1001, 1001, 1001, 1001, 1001, 1001, 1001,\n",
      "       1001, 1001, 1001, 1001, 1001, 1001, 1001, 1001, 1001, 1001, 1001,\n",
      "       1001, 1001, 1001, 1001, 1001, 1001, 1001, 1001, 1001, 1001, 1001,\n",
      "       1001, 1001, 1001, 1001, 1001, 1001, 1001, 1001, 1001, 1001, 1001,\n",
      "       1001, 1001, 1001, 1001, 1001, 1001, 1001, 1001, 1001, 1001, 1001,\n",
      "       1001, 1001, 1001, 1001, 1001, 1001, 1001, 1001, 1001, 1001, 1001,\n",
      "       1001], dtype=int32), array([1001, 1001, 1001, 1001, 1001, 1001, 1001, 1001, 1001, 1001, 1001,\n",
      "       1001, 1001, 1001, 1001, 1001, 1001, 1001, 1001, 1001, 1001, 1001,\n",
      "       1001, 1001, 1001, 1001, 1001, 1001, 1001, 1001, 1001, 1001, 1001,\n",
      "       1001, 1001, 1001, 1001, 1001, 1001, 1001, 1001, 1001, 1001, 1001,\n",
      "       1001, 1001, 1001, 1001, 1001, 1001, 1001, 1001, 1001, 1001, 1001,\n",
      "       1001, 1001, 1001, 1001, 1001, 1001, 1001, 1001, 1001, 1001, 1001,\n",
      "       1001, 1001, 1001, 1001, 1001, 1001, 1001, 1001, 1001, 1001, 1001,\n",
      "       1001, 1001, 1001, 1001, 1001, 1001, 1001, 1001, 1001, 1001, 1001,\n",
      "       1001, 1001, 1001, 1001, 1001, 1001, 1001, 1001, 1001, 1001, 1001,\n",
      "       1001], dtype=int32), array([1001, 1001, 1001, 1001, 1001, 1001, 1001, 1001, 1001, 1001, 1001,\n",
      "       1001, 1001, 1001, 1001, 1001, 1001, 1001, 1001, 1001, 1001, 1001,\n",
      "       1001, 1001, 1001, 1001, 1001, 1001, 1001, 1001, 1001, 1001, 1001,\n",
      "       1001, 1001, 1001, 1001, 1001, 1001, 1001, 1001, 1001, 1001, 1001,\n",
      "       1001, 1001, 1001, 1001, 1001, 1001, 1001, 1001, 1001, 1001, 1001,\n",
      "       1001, 1001, 1001, 1001, 1001, 1001, 1001, 1001, 1001, 1001, 1001,\n",
      "       1001, 1001, 1001, 1001, 1001, 1001, 1001, 1001, 1001, 1001, 1001,\n",
      "       1001, 1001, 1001, 1001, 1001, 1001, 1001, 1001, 1001, 1001, 1001,\n",
      "       1001, 1001, 1001, 1001, 1001, 1001, 1001, 1001, 1001, 1001, 1001,\n",
      "       1001], dtype=int32), array([1001, 1001, 1001, 1001, 1001, 1001, 1001, 1001, 1001, 1001, 1001,\n",
      "       1001, 1001, 1001, 1001, 1001, 1001, 1001, 1001, 1001, 1001, 1001,\n",
      "       1001, 1001, 1001, 1001, 1001, 1001, 1001, 1001, 1001, 1001, 1001,\n",
      "       1001, 1001, 1001, 1001, 1001, 1001, 1001, 1001, 1001, 1001, 1001,\n",
      "       1001, 1001, 1001, 1001, 1001, 1001, 1001, 1001, 1001, 1001, 1001,\n",
      "       1001, 1001, 1001, 1001, 1001, 1001, 1001, 1001, 1001, 1001, 1001,\n",
      "       1001, 1001, 1001, 1001, 1001, 1001, 1001, 1001, 1001, 1001, 1001,\n",
      "       1001, 1001, 1001, 1001, 1001, 1001, 1001, 1001, 1001, 1001, 1001,\n",
      "       1001, 1001, 1001, 1001, 1001, 1001, 1001, 1001, 1001, 1001, 1001,\n",
      "       1001], dtype=int32), array([1002, 1002, 1002, 1002, 1002, 1002, 1002, 1002, 1002, 1002, 1002,\n",
      "       1002, 1002, 1002, 1002, 1002, 1002, 1002, 1002, 1002, 1002, 1002,\n",
      "       1002, 1002, 1002, 1002, 1002, 1002, 1002, 1002, 1002, 1002, 1002,\n",
      "       1002, 1002, 1002, 1002, 1002, 1002, 1002, 1002, 1002, 1002, 1002,\n",
      "       1002, 1002, 1002, 1002, 1002, 1002, 1002, 1002, 1002, 1002, 1002,\n",
      "       1002, 1002, 1002, 1002, 1002, 1002, 1002, 1002, 1002, 1002, 1002,\n",
      "       1002, 1002, 1002, 1002, 1002, 1002, 1002, 1002, 1002, 1002, 1002,\n",
      "       1002, 1002, 1002, 1002, 1002, 1002, 1002, 1002, 1002, 1002, 1002,\n",
      "       1002, 1002, 1002, 1002, 1002, 1002, 1002, 1002, 1002, 1002, 1002,\n",
      "       1002], dtype=int32), array([1002, 1002, 1002, 1002, 1002, 1002, 1002, 1002, 1002, 1002, 1002,\n",
      "       1002, 1002, 1002, 1002, 1002, 1002, 1002, 1002, 1002, 1002, 1002,\n",
      "       1002, 1002, 1002, 1002, 1002, 1002, 1002, 1002, 1002, 1002, 1002,\n",
      "       1002, 1002, 1002, 1002, 1002, 1002, 1002, 1002, 1002, 1002, 1002,\n",
      "       1002, 1002, 1002, 1002, 1002, 1002, 1002, 1002, 1002, 1002, 1002,\n",
      "       1002, 1002, 1002, 1002, 1002, 1002, 1002, 1002, 1002, 1002, 1002,\n",
      "       1002, 1002, 1002, 1002, 1002, 1002, 1002, 1002, 1002, 1002, 1002,\n",
      "       1002, 1002, 1002, 1002, 1002, 1002, 1002, 1002, 1002, 1002, 1002,\n",
      "       1002, 1002, 1002, 1002, 1002, 1002, 1002, 1002, 1002, 1002, 1002,\n",
      "       1002], dtype=int32), array([1002, 1002, 1002, 1002, 1002, 1002, 1002, 1002, 1002, 1002, 1002,\n",
      "       1002, 1002, 1002, 1002, 1002, 1002, 1002, 1002, 1002, 1002, 1002,\n",
      "       1002, 1002, 1002, 1002, 1002, 1002, 1002, 1002, 1002, 1002, 1002,\n",
      "       1002, 1002, 1002, 1002, 1002, 1002, 1002, 1002, 1002, 1002, 1002,\n",
      "       1002, 1002, 1002, 1002, 1002, 1002, 1002, 1002, 1002, 1002, 1002,\n",
      "       1002, 1002, 1002, 1002, 1002, 1002, 1002, 1002, 1002, 1002, 1002,\n",
      "       1002, 1002, 1002, 1002, 1002, 1002, 1002, 1002, 1002, 1002, 1002,\n",
      "       1002, 1002, 1002, 1002, 1002, 1002, 1002, 1002, 1002, 1002, 1002,\n",
      "       1002, 1002, 1002, 1002, 1002, 1002, 1002, 1002, 1002, 1002, 1002,\n",
      "       1002], dtype=int32), array([1002, 1002, 1002, 1002, 1002, 1002, 1002, 1002, 1002, 1002, 1002,\n",
      "       1002, 1002, 1002, 1002, 1002, 1002, 1002, 1002, 1002, 1002, 1002,\n",
      "       1002, 1002, 1002, 1002, 1002, 1002, 1002, 1002, 1002, 1002, 1002,\n",
      "       1002, 1002, 1002, 1002, 1002, 1002, 1002, 1002, 1002, 1002, 1002,\n",
      "       1002, 1002, 1002, 1002, 1002, 1002, 1002, 1002, 1002, 1002, 1002,\n",
      "       1002, 1002, 1002, 1002, 1002, 1002, 1002, 1002, 1002, 1002, 1002,\n",
      "       1002, 1002, 1002, 1002, 1002, 1002, 1002, 1002, 1002, 1002, 1002,\n",
      "       1002, 1002, 1002, 1002, 1002, 1002, 1002, 1002, 1002, 1002, 1002,\n",
      "       1002, 1002, 1002, 1002, 1002, 1002, 1002, 1002, 1002, 1002, 1002,\n",
      "       1002], dtype=int32), array([1002, 1002, 1002, 1002, 1002, 1002, 1002, 1002, 1002, 1002, 1002,\n",
      "       1002, 1002, 1002, 1002, 1002, 1002, 1002, 1002, 1002, 1002, 1002,\n",
      "       1002, 1002, 1002, 1002, 1002, 1002, 1002, 1002, 1002, 1002, 1002,\n",
      "       1002, 1002, 1002, 1002, 1002, 1002, 1002, 1002, 1002, 1002, 1002,\n",
      "       1002, 1002, 1002, 1002, 1002, 1002, 1002, 1002, 1002, 1002, 1002,\n",
      "       1002, 1002, 1002, 1002, 1002, 1002, 1002, 1002, 1002, 1002, 1002,\n",
      "       1002, 1002, 1002, 1002, 1002, 1002, 1002, 1002, 1002, 1002, 1002,\n",
      "       1002, 1002, 1002, 1002, 1002, 1002, 1002, 1002, 1002, 1002, 1002,\n",
      "       1002, 1002, 1002, 1002, 1002, 1002, 1002, 1002, 1002, 1002, 1002,\n",
      "       1002], dtype=int32), array([1002, 1002, 1002, 1002, 1002, 1002, 1002, 1002, 1002, 1002, 1002,\n",
      "       1002, 1002, 1002, 1002, 1002, 1002, 1002, 1002, 1002, 1002, 1002,\n",
      "       1002, 1002, 1002, 1002, 1002, 1002, 1002, 1002, 1002, 1002, 1002,\n",
      "       1002, 1002, 1002, 1002, 1002, 1002, 1002, 1002, 1002, 1002, 1002,\n",
      "       1002, 1002, 1002, 1002, 1002, 1002, 1002, 1002, 1002, 1002, 1002,\n",
      "       1002, 1002, 1002, 1002, 1002, 1002, 1002, 1002, 1002, 1002, 1002,\n",
      "       1002, 1002, 1002, 1002, 1002, 1002, 1002, 1002, 1002, 1002, 1002,\n",
      "       1002, 1002, 1002, 1002, 1002, 1002, 1002, 1002, 1002, 1002, 1002,\n",
      "       1002, 1002, 1002, 1002, 1002, 1002, 1002, 1002, 1002, 1002, 1002,\n",
      "       1002], dtype=int32), array([1002, 1002, 1002, 1002, 1002, 1002, 1002, 1002, 1002, 1002, 1002,\n",
      "       1002, 1002, 1002, 1002, 1002, 1002, 1002, 1002, 1002, 1002, 1002,\n",
      "       1002, 1002, 1002, 1002, 1002, 1002, 1002, 1002, 1002, 1002, 1002,\n",
      "       1002, 1002, 1002, 1002, 1002, 1002, 1002, 1002, 1002, 1002, 1002,\n",
      "       1002, 1002, 1002, 1002, 1002, 1002, 1002, 1002, 1002, 1002, 1002,\n",
      "       1002, 1002, 1002, 1002, 1002, 1002, 1002, 1002, 1002, 1002, 1002,\n",
      "       1002, 1002, 1002, 1002, 1002, 1002, 1002, 1002, 1002, 1002, 1002,\n",
      "       1002, 1002, 1002, 1002, 1002, 1002, 1002, 1002, 1002, 1002, 1002,\n",
      "       1002, 1002, 1002, 1002, 1002, 1002, 1002, 1002, 1002, 1002, 1002,\n",
      "       1002], dtype=int32), array([1002, 1002, 1002, 1002, 1002, 1002, 1002, 1002, 1002, 1002, 1002,\n",
      "       1002, 1002, 1002, 1002, 1002, 1002, 1002, 1002, 1002, 1002, 1002,\n",
      "       1002, 1002, 1002, 1002, 1002, 1002, 1002, 1002, 1002, 1002, 1002,\n",
      "       1002, 1002, 1002, 1002, 1002, 1002, 1002, 1002, 1002, 1002, 1002,\n",
      "       1002, 1002, 1002, 1002, 1002, 1002, 1002, 1002, 1002, 1002, 1002,\n",
      "       1002, 1002, 1002, 1002, 1002, 1002, 1002, 1002, 1002, 1002, 1002,\n",
      "       1002, 1002, 1002, 1002, 1002, 1002, 1002, 1002, 1002, 1002, 1002,\n",
      "       1002, 1002, 1002, 1002, 1002, 1002, 1002, 1002, 1002, 1002, 1002,\n",
      "       1002, 1002, 1002, 1002, 1002, 1002, 1002, 1002, 1002, 1002, 1002,\n",
      "       1002], dtype=int32), array([1002, 1002, 1002, 1002, 1002, 1002, 1002, 1002, 1002, 1002, 1002,\n",
      "       1002, 1002, 1002, 1002, 1002, 1002, 1002, 1002, 1002, 1002, 1002,\n",
      "       1002, 1002, 1002, 1002, 1002, 1002, 1002, 1002, 1002, 1002, 1002,\n",
      "       1002, 1002, 1002, 1002, 1002, 1002, 1002, 1002, 1002, 1002, 1002,\n",
      "       1002, 1002, 1002, 1002, 1002, 1002, 1002, 1002, 1002, 1002, 1002,\n",
      "       1002, 1002, 1002, 1002, 1002, 1002, 1002, 1002, 1002, 1002, 1002,\n",
      "       1002, 1002, 1002, 1002, 1002, 1002, 1002, 1002, 1002, 1002, 1002,\n",
      "       1002, 1002, 1002, 1002, 1002, 1002, 1002, 1002, 1002, 1002, 1002,\n",
      "       1002, 1002, 1002, 1002, 1002, 1002, 1002, 1002, 1002, 1002, 1002,\n",
      "       1002], dtype=int32), array([1002, 1002, 1002, 1002, 1002, 1002, 1002, 1002, 1002, 1002, 1002,\n",
      "       1002, 1002, 1002, 1002, 1002, 1002, 1002, 1002, 1002, 1002, 1002,\n",
      "       1002, 1002, 1002, 1002, 1002, 1002, 1002, 1002, 1002, 1002, 1002,\n",
      "       1002, 1002, 1002, 1002, 1002, 1002, 1002, 1002, 1002, 1002, 1002,\n",
      "       1002, 1002, 1002, 1002, 1002, 1002, 1002, 1002, 1002, 1002, 1002,\n",
      "       1002, 1002, 1002, 1002, 1002, 1002, 1002, 1002, 1002, 1002, 1002,\n",
      "       1002, 1002, 1002, 1002, 1002, 1002, 1002, 1002, 1002, 1002, 1002,\n",
      "       1002, 1002, 1002, 1002, 1002, 1002, 1002, 1002, 1002, 1002, 1002,\n",
      "       1002, 1002, 1002, 1002, 1002, 1002, 1002, 1002, 1002, 1002, 1002,\n",
      "       1002], dtype=int32), array([1002, 1002, 1002, 1002, 1002, 1002, 1002, 1002, 1002, 1002, 1002,\n",
      "       1002, 1002, 1002, 1002, 1002, 1002, 1002, 1002, 1002, 1002, 1002,\n",
      "       1002, 1002, 1002, 1002, 1002, 1002, 1002, 1002, 1002, 1002, 1002,\n",
      "       1002, 1002, 1002, 1002, 1002, 1002, 1002, 1002, 1002, 1002, 1002,\n",
      "       1002, 1002, 1002, 1002, 1002, 1002, 1002, 1002, 1002, 1002, 1002,\n",
      "       1002, 1002, 1002, 1002, 1002, 1002, 1002, 1002, 1002, 1002, 1002,\n",
      "       1002, 1002, 1002, 1002, 1002, 1002, 1002, 1002, 1002, 1002, 1002,\n",
      "       1002, 1002, 1002, 1002, 1002, 1002, 1002, 1002, 1002, 1002, 1002,\n",
      "       1002, 1002, 1002, 1002, 1002, 1002, 1002, 1002, 1002, 1002, 1002,\n",
      "       1002], dtype=int32), array([1002, 1002, 1002, 1002, 1002, 1002, 1002, 1002, 1002, 1002, 1002,\n",
      "       1002, 1002, 1002, 1002, 1002, 1002, 1002, 1002, 1002, 1002, 1002,\n",
      "       1002, 1002, 1002, 1002, 1002, 1002, 1002, 1002, 1002, 1002, 1002,\n",
      "       1002, 1002, 1002, 1002, 1002, 1002, 1002, 1002, 1002, 1002, 1002,\n",
      "       1002, 1002, 1002, 1002, 1002, 1002, 1002, 1002, 1002, 1002, 1002,\n",
      "       1002, 1002, 1002, 1002, 1002, 1002, 1002, 1002, 1002, 1002, 1002,\n",
      "       1002, 1002, 1002, 1002, 1002, 1002, 1002, 1002, 1002, 1002, 1002,\n",
      "       1002, 1002, 1002, 1002, 1002, 1002, 1002, 1002, 1002, 1002, 1002,\n",
      "       1002, 1002, 1002, 1002, 1002, 1002, 1002, 1002, 1002, 1002, 1002,\n",
      "       1002], dtype=int32), array([1002, 1002, 1002, 1002, 1002, 1002, 1002, 1002, 1002, 1002, 1002,\n",
      "       1002, 1002, 1002, 1002, 1002, 1002, 1002, 1002, 1002, 1002, 1002,\n",
      "       1002, 1002, 1002, 1002, 1002, 1002, 1002, 1002, 1002, 1002, 1002,\n",
      "       1002, 1002, 1002, 1002, 1002, 1002, 1002, 1002, 1002, 1002, 1002,\n",
      "       1002, 1002, 1002, 1002, 1002, 1002, 1002, 1002, 1002, 1002, 1002,\n",
      "       1002, 1002, 1002, 1002, 1002, 1002, 1002, 1002, 1002, 1002, 1002,\n",
      "       1002, 1002, 1002, 1002, 1002, 1002, 1002, 1002, 1002, 1002, 1002,\n",
      "       1002, 1002, 1002, 1002, 1002, 1002, 1002, 1002, 1002, 1002, 1002,\n",
      "       1002, 1002, 1002, 1002, 1002, 1002, 1002, 1002, 1002, 1002, 1002,\n",
      "       1002], dtype=int32), array([1003, 1003, 1003, 1003, 1003, 1003, 1003, 1003, 1003, 1003, 1003,\n",
      "       1003, 1003, 1003, 1003, 1003, 1003, 1003, 1003, 1003, 1003, 1003,\n",
      "       1003, 1003, 1003, 1003, 1003, 1003, 1003, 1003, 1003, 1003, 1003,\n",
      "       1003, 1003, 1003, 1003, 1003, 1003, 1003, 1003, 1003, 1003, 1003,\n",
      "       1003, 1003, 1003, 1003, 1003, 1003, 1003, 1003, 1003, 1003, 1003,\n",
      "       1003, 1003, 1003, 1003, 1003, 1003, 1003, 1003, 1003, 1003, 1003,\n",
      "       1003, 1003, 1003, 1003, 1003, 1003, 1003, 1003, 1003, 1003, 1003,\n",
      "       1003, 1003, 1003, 1003, 1003, 1003, 1003, 1003, 1003, 1003, 1003,\n",
      "       1003, 1003, 1003, 1003, 1003, 1003, 1003, 1003, 1003, 1003, 1003,\n",
      "       1003], dtype=int32), array([1003, 1003, 1003, 1003, 1003, 1003, 1003, 1003, 1003, 1003, 1003,\n",
      "       1003, 1003, 1003, 1003, 1003, 1003, 1003, 1003, 1003, 1003, 1003,\n",
      "       1003, 1003, 1003, 1003, 1003, 1003, 1003, 1003, 1003, 1003, 1003,\n",
      "       1003, 1003, 1003, 1003, 1003, 1003, 1003, 1003, 1003, 1003, 1003,\n",
      "       1003, 1003, 1003, 1003, 1003, 1003, 1003, 1003, 1003, 1003, 1003,\n",
      "       1003, 1003, 1003, 1003, 1003, 1003, 1003, 1003, 1003, 1003, 1003,\n",
      "       1003, 1003, 1003, 1003, 1003, 1003, 1003, 1003, 1003, 1003, 1003,\n",
      "       1003, 1003, 1003, 1003, 1003, 1003, 1003, 1003, 1003, 1003, 1003,\n",
      "       1003, 1003, 1003, 1003, 1003, 1003, 1003, 1003, 1003, 1003, 1003,\n",
      "       1003], dtype=int32)]\n"
     ]
    }
   ],
   "source": [
    "print(layer_mat_ids_yakou)"
   ]
  },
  {
   "cell_type": "code",
   "execution_count": 21,
   "metadata": {},
   "outputs": [
    {
     "data": {
      "text/plain": [
       "(100, 28)"
      ]
     },
     "execution_count": 21,
     "metadata": {},
     "output_type": "execute_result"
    }
   ],
   "source": [
    "np.shape(mat_ids)"
   ]
  },
  {
   "cell_type": "code",
   "execution_count": 22,
   "metadata": {},
   "outputs": [
    {
     "data": {
      "text/plain": [
       "<module 'meshing_ats_2' from '/home/rk/ats_rk/amanzi/src/physics/ats/tools/meshing_ats_rk/meshing_ats_2.py'>"
      ]
     },
     "execution_count": 22,
     "metadata": {},
     "output_type": "execute_result"
    }
   ],
   "source": [
    "import importlib\n",
    "importlib.reload(meshing_ats)\n",
    "importlib.reload(meshing_ats_2)"
   ]
  },
  {
   "cell_type": "code",
   "execution_count": null,
   "metadata": {},
   "outputs": [],
   "source": [
    "# make the mesh, save it as an exodus file\n",
    "m3 = meshing_ats.Mesh3D.extruded_Mesh2D(m2, layer_types_yakou,layer_data_yakou, layer_ncells_yakou, layer_mat_ids_yakou)\n",
    "m3.write_exodus(\"Yakou_model.exo\")"
   ]
  },
  {
   "cell_type": "markdown",
   "metadata": {},
   "source": [
    "To deal with error: 'TypeError: sorted expected 1 argument, got 2'\n",
    "- https://stackoverflow.com/questions/57429471/equivalent-of-sorted-function-with-compare-function-in-python-3 - Correct!\n",
    "- https://docs.python.org/3/howto/sorting.html\n",
    "\n",
    "To deal with this error - AttributeError: type object 'int' has no attribute '__cmp__'\n",
    "- https://stackoverflow.com/questions/36921558/how-int-object-uses-operator-without-eq-method-in-python2"
   ]
  },
  {
   "cell_type": "code",
   "execution_count": null,
   "metadata": {},
   "outputs": [],
   "source": [
    "# make the mesh, save it as an exodus file\n",
    "m3 = meshing_ats_2.Mesh3D.extruded_Mesh2D(m2, layer_types_yakou,layer_data_yakou, layer_ncells_yakou, layer_mat_ids_yakou)\n",
    "m3.write_exodus(\"Yakou_model.exo\")"
   ]
  },
  {
   "cell_type": "code",
   "execution_count": 104,
   "metadata": {},
   "outputs": [
    {
     "data": {
      "text/plain": [
       "[('john', 'A', 15), ('jane', 'B', 12), ('dave', 'B', 10)]"
      ]
     },
     "execution_count": 104,
     "metadata": {},
     "output_type": "execute_result"
    }
   ],
   "source": [
    "# How sorting works\n",
    "student_tuples = [\n",
    "    ('john', 'A', 15),\n",
    "    ('jane', 'B', 12),\n",
    "    ('dave', 'B', 10),\n",
    "]\n",
    "student_tuples"
   ]
  },
  {
   "cell_type": "code",
   "execution_count": 105,
   "metadata": {},
   "outputs": [
    {
     "data": {
      "text/plain": [
       "[('dave', 'B', 10), ('jane', 'B', 12), ('john', 'A', 15)]"
      ]
     },
     "execution_count": 105,
     "metadata": {},
     "output_type": "execute_result"
    }
   ],
   "source": [
    "sorted(student_tuples, key=lambda student: student[0])   # sort by age"
   ]
  },
  {
   "cell_type": "code",
   "execution_count": null,
   "metadata": {},
   "outputs": [],
   "source": [
    "importlib.reload(meshing_ats_2)\n",
    "import yakou_model"
   ]
  },
  {
   "cell_type": "code",
   "execution_count": null,
   "metadata": {},
   "outputs": [],
   "source": []
  }
 ],
 "metadata": {
  "anaconda-cloud": {},
  "kernelspec": {
   "display_name": "Python 3",
   "language": "python",
   "name": "python3"
  },
  "language_info": {
   "codemirror_mode": {
    "name": "ipython",
    "version": 3
   },
   "file_extension": ".py",
   "mimetype": "text/x-python",
   "name": "python",
   "nbconvert_exporter": "python",
   "pygments_lexer": "ipython3",
   "version": "3.8.8"
  }
 },
 "nbformat": 4,
 "nbformat_minor": 1
}
