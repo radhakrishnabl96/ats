{
 "cells": [
  {
   "cell_type": "markdown",
   "metadata": {},
   "source": [
    "This script generates hillslope mesh with a varying organic layer thickness at the top."
   ]
  },
  {
   "cell_type": "code",
   "execution_count": 1,
   "metadata": {},
   "outputs": [],
   "source": [
    "import sys,os\n",
    "sys.path.append(os.path.join(os.environ['ATS_SRC_DIR'],'tools','meshing_ats'))\n",
    "import meshing_ats\n",
    "\n",
    "import numpy as np\n",
    "from matplotlib import pyplot as plt\n",
    "%matplotlib inline"
   ]
  },
  {
   "cell_type": "code",
   "execution_count": 2,
   "metadata": {},
   "outputs": [
    {
     "name": "stdout",
     "output_type": "stream",
     "text": [
      "# of x and z elements:  101 ,  101\n",
      "# of cells:  100\n"
     ]
    },
    {
     "data": {
      "image/png": "[encoded data removed]",
      "text/plain": [
       "<matplotlib.figure.Figure at 0x10f68fe10>"
      ]
     },
     "metadata": {},
     "output_type": "display_data"
    }
   ],
   "source": [
    "# 1 km long hillslope, 10% slope\n",
    "x = np.linspace(0,1000,101)\n",
    "z = 60 - 0.06*x\n",
    "print '# of x and z elements: ',len(x),', ',len(z)\n",
    "plt.plot(x,z); plt.xlabel('x distance (m)'); plt.ylabel('z elevation (m)')\n",
    "m2 = meshing_ats.Mesh2D.from_Transect(x,z)\n",
    "print '# of cells: ', m2.num_cells()"
   ]
  },
  {
   "cell_type": "code",
   "execution_count": 4,
   "metadata": {},
   "outputs": [
    {
     "data": {
      "image/png": "[encoded data removed]",
      "text/plain": [
       "<matplotlib.figure.Figure at 0x111760990>"
      ]
     },
     "metadata": {},
     "output_type": "display_data"
    }
   ],
   "source": [
    "# Changing organic layer thickness \n",
    "def impervious_thickness(x):\n",
    "    \"\"\"This function is the thickness of the parking lot as a function of x\"\"\"\n",
    "    if x < 400:\n",
    "        thickness = 0.\n",
    "    elif x > 600:\n",
    "        thickness = 0.\n",
    "    else:\n",
    "        thickness = 0.1\n",
    "    return thickness\n",
    "\n",
    "patch_thickness = np.array([impervious_thickness(xx) for xx in m2.coords[:,0]])\n",
    "plt.plot(x, patch_thickness[0:101]); plt.xlabel('x distance (m)'); plt.ylabel('org. layer thickness (m)');\n"
   ]
  },
  {
   "cell_type": "code",
   "execution_count": 57,
   "metadata": {},
   "outputs": [
    {
     "name": "stdout",
     "output_type": "stream",
     "text": [
      "[[1001 1001    0 ...    0    0    0]\n",
      " [1001 1001    0 ...    0    0    0]\n",
      " [1001 1001    0 ...    0    0    0]\n",
      " ...\n",
      " [1001 1001    0 ...    0    0    0]\n",
      " [1001 1001    0 ...    0    0    0]\n",
      " [1001 1001    0 ...    0    0    0]]\n"
     ]
    }
   ],
   "source": [
    "# preparing layer extrusion data for meshing_ats\n",
    "#\n",
    "# Meshes are extruded in the vertical by \"layer\", where a layer may \n",
    "# consist of multiple cells in the z direction.  These layers are \n",
    "# logical unit to make construction easier, and may or may not \n",
    "# correspond to material type (organic/mineral soil).\n",
    "# \n",
    "# The extrusion process is then given four lists, each of length\n",
    "# num_layers.\n",
    "#\n",
    "layer_types = []  # a list of strings that tell the extruding \n",
    "                  # code how to do the layers.  See meshing_ats \n",
    "                  # documentation for more, but here we will use\n",
    "                  # only \"constant\", which means that dz within\n",
    "                  # the layer is constant.\n",
    "\n",
    "layer_data = []   # this data depends upon the layer type, but\n",
    "                  # for constant is the thickness of the layer\n",
    "\n",
    "layer_ncells = [] # number of cells (in the vertical) in the layer.\n",
    "                  # The dz of each cell is the layer thickness / number of cells.\n",
    "\n",
    "layer_mat_ids = []# The material ID.  This may be either a constant int (for\n",
    "                  # unform layering) or an array of size [ncells_vertical x ncells_horizontal] in the layer \n",
    "                  # where each entry corresponds to the material ID of that cell.\n",
    "\n",
    "layer_depth = []  # used later to get the mat ids right, just for bookkeeping\n",
    "        \n",
    "# here we will only use 1 cell per layer, so layer thickness = dz.\n",
    "# We will also telescope the mesh, starting at 1cm grid cell and growing it larger in each layer.\n",
    "dz = .05\n",
    "i = 0\n",
    "current_depth = 0\n",
    "\n",
    "# mixed soil/parking lot layer\n",
    "dz = 0.1\n",
    "layer_types.append(\"constant\")\n",
    "layer_data.append(dz)\n",
    "layer_ncells.append(2)\n",
    "current_depth += dz\n",
    "i += 2\n",
    "\n",
    "\n",
    "# allocate 1D matrix with cols=#cells\n",
    "layer_mat_ids = np.zeros((m2.num_cells(), 12+22), 'i')\n",
    "\n",
    "for j in range(100):\n",
    "    x_cell = (m2.coords[j,0] + m2.coords[j+1,0]) / 2.0\n",
    "    if (x_cell < 400) or (x_cell > 600):\n",
    "        layer_mat_ids[j,0:i] = 1001\n",
    "    else:\n",
    "        layer_mat_ids[j,0:i] = 1002\n",
    "#layer_mat_ids.append(mat_ids)\n",
    "    \n",
    "print layer_mat_ids\n",
    "    \n",
    "# here we will only use 1 cell per layer, so layer thickness = dz.\n",
    "# We will also telescope the mesh, starting at 1cm grid cell and growing it larger in each layer.\n",
    "dz = .05\n",
    "\n",
    "while i < 11:\n",
    "    dz *= 1.51\n",
    "    layer_types.append(\"constant\")\n",
    "    layer_data.append(dz)\n",
    "    layer_ncells.append(1)\n",
    "    current_depth += dz\n",
    "    #layer_depth.append(current_depth)\n",
    "    layer_mat_ids[:,i] = 1001\n",
    "    i += 1\n",
    "    \n",
    "    \n",
    "# now add in a bunch of cells to reach 45 m, of equal dz that is ~2m.\n",
    "#num_of_layers=len(layer_data)\n",
    "layer_types.append(\"constant\")\n",
    "layer_data.append(50 - sum(layer_data))  # note sum(layer_data) == the total mesh thickness at this point\n",
    "layer_ncells.append(22)\n",
    "layer_mat_ids[:,i:] = 1001\n"
   ]
  },
  {
   "cell_type": "code",
   "execution_count": 58,
   "metadata": {},
   "outputs": [
    {
     "name": "stdout",
     "output_type": "stream",
     "text": [
      "5.99380191209\n",
      "[0.1, 0.07550000000000001, 0.11400500000000002, 0.17214755000000004, 0.25994280050000007, 0.3925136287550001, 0.5926955794200501, 0.8949703249242758, 1.3514051906356563, 2.0406218378598413, 44.006198087905176]\n",
      "11\n",
      "1001\n"
     ]
    }
   ],
   "source": [
    "print current_depth\n",
    "print layer_data\n",
    "print len (layer_data)\n",
    "print layer_mat_ids.min()"
   ]
  },
  {
   "cell_type": "code",
   "execution_count": null,
   "metadata": {},
   "outputs": [],
   "source": []
  },
  {
   "cell_type": "code",
   "execution_count": 59,
   "metadata": {},
   "outputs": [
    {
     "ename": "IndexError",
     "evalue": "index 34 is out of bounds for axis 1 with size 34",
     "output_type": "error",
     "traceback": [
      "\u001b[0;31m---------------------------------------------------------------------------\u001b[0m",
      "\u001b[0;31mIndexError\u001b[0m                                Traceback (most recent call last)",
      "\u001b[0;32m<ipython-input-59-19ab1619df54>\u001b[0m in \u001b[0;36m<module>\u001b[0;34m()\u001b[0m\n\u001b[1;32m      1\u001b[0m \u001b[0;31m# make the mesh, save it as an exodus file\u001b[0m\u001b[0;34m\u001b[0m\u001b[0;34m\u001b[0m\u001b[0m\n\u001b[0;32m----> 2\u001b[0;31m \u001b[0mm3\u001b[0m \u001b[0;34m=\u001b[0m \u001b[0mmeshing_ats\u001b[0m\u001b[0;34m.\u001b[0m\u001b[0mMesh3D\u001b[0m\u001b[0;34m.\u001b[0m\u001b[0mextruded_Mesh2D\u001b[0m\u001b[0;34m(\u001b[0m\u001b[0mm2\u001b[0m\u001b[0;34m,\u001b[0m \u001b[0mlayer_types\u001b[0m\u001b[0;34m,\u001b[0m\u001b[0mlayer_data\u001b[0m\u001b[0;34m,\u001b[0m \u001b[0mlayer_ncells\u001b[0m\u001b[0;34m,\u001b[0m \u001b[0mlayer_mat_ids\u001b[0m\u001b[0;34m)\u001b[0m\u001b[0;34m\u001b[0m\u001b[0m\n\u001b[0m\u001b[1;32m      3\u001b[0m \u001b[0mm3\u001b[0m\u001b[0;34m.\u001b[0m\u001b[0mwrite_exodus\u001b[0m\u001b[0;34m(\u001b[0m\u001b[0;34m\"test_parkinglot.exo\"\u001b[0m\u001b[0;34m)\u001b[0m\u001b[0;34m\u001b[0m\u001b[0m\n",
      "\u001b[0;32m/Users/uec/codes/ats/amanzi/repos/dev/src/physics/ats/tools/meshing_ats/meshing_ats/meshing_ats.pyc\u001b[0m in \u001b[0;36mextruded_Mesh2D\u001b[0;34m(cls, mesh2D, layer_types, layer_data, ncells_per_layer, mat_ids)\u001b[0m\n\u001b[1;32m    753\u001b[0m                 \u001b[0mncells\u001b[0m \u001b[0;34m=\u001b[0m \u001b[0mncells_per_layer\u001b[0m\u001b[0;34m[\u001b[0m\u001b[0milay\u001b[0m\u001b[0;34m]\u001b[0m\u001b[0;34m\u001b[0m\u001b[0m\n\u001b[1;32m    754\u001b[0m                 \u001b[0;32mfor\u001b[0m \u001b[0mi\u001b[0m \u001b[0;32min\u001b[0m \u001b[0mrange\u001b[0m\u001b[0;34m(\u001b[0m\u001b[0mz_cell\u001b[0m\u001b[0;34m,\u001b[0m \u001b[0mz_cell\u001b[0m\u001b[0;34m+\u001b[0m\u001b[0mncells\u001b[0m\u001b[0;34m)\u001b[0m\u001b[0;34m:\u001b[0m\u001b[0;34m\u001b[0m\u001b[0m\n\u001b[0;32m--> 755\u001b[0;31m                     \u001b[0mmaterial_ids\u001b[0m\u001b[0;34m[\u001b[0m\u001b[0mcol_to_id\u001b[0m\u001b[0;34m(\u001b[0m\u001b[0mcol\u001b[0m\u001b[0;34m,\u001b[0m \u001b[0mi\u001b[0m\u001b[0;34m)\u001b[0m\u001b[0;34m]\u001b[0m \u001b[0;34m=\u001b[0m \u001b[0mnp_mat_ids\u001b[0m\u001b[0;34m[\u001b[0m\u001b[0milay\u001b[0m\u001b[0;34m,\u001b[0m \u001b[0mcol\u001b[0m\u001b[0;34m]\u001b[0m\u001b[0;34m\u001b[0m\u001b[0m\n\u001b[0m\u001b[1;32m    756\u001b[0m                 \u001b[0mz_cell\u001b[0m \u001b[0;34m=\u001b[0m \u001b[0mz_cell\u001b[0m \u001b[0;34m+\u001b[0m \u001b[0mncells\u001b[0m\u001b[0;34m\u001b[0m\u001b[0m\n\u001b[1;32m    757\u001b[0m \u001b[0;34m\u001b[0m\u001b[0m\n",
      "\u001b[0;31mIndexError\u001b[0m: index 34 is out of bounds for axis 1 with size 34"
     ]
    }
   ],
   "source": [
    "# make the mesh, save it as an exodus file\n",
    "m3 = meshing_ats.Mesh3D.extruded_Mesh2D(m2, layer_types,layer_data, layer_ncells, layer_mat_ids)\n",
    "m3.write_exodus(\"test_parkinglot.exo\")"
   ]
  },
  {
   "cell_type": "code",
   "execution_count": 7,
   "metadata": {},
   "outputs": [
    {
     "name": "stdout",
     "output_type": "stream",
     "text": [
      "# of cells:  1\n"
     ]
    }
   ],
   "source": [
    "# Make a column that is the same as the deepest organic layer thickness for use in spinup.\n",
    "# 1 km long hillslope, 10% slope\n",
    "xc = np.array([0,1])\n",
    "zc = np.array([0,0])\n",
    "m2c = meshing_ats.Mesh2D.from_Transect(xc,zc)\n",
    "print '# of cells: ', m2c.num_cells()"
   ]
  },
  {
   "cell_type": "code",
   "execution_count": 8,
   "metadata": {},
   "outputs": [
    {
     "name": "stdout",
     "output_type": "stream",
     "text": [
      "[1001, 1001, 1001, 1002, 1002, 1002, 1002, 1002, 1002, 1002, 1002, 1002, 1002, 1002, 1002, 1002, 1002, 1002, 1002, 1002, 1002, 101, 101, 101, 101, 101, 101, 101, 101, 101, 101, 101, 101, 101, 101, 101, 101, 101, 101, 101]\n"
     ]
    }
   ],
   "source": [
    "column_mat_ids = [lmi[50] for lmi in layer_mat_ids]\n",
    "print column_mat_ids"
   ]
  },
  {
   "cell_type": "code",
   "execution_count": 9,
   "metadata": {},
   "outputs": [
    {
     "name": "stdout",
     "output_type": "stream",
     "text": [
      "\n",
      "You are using exodus.py v 1.05 (beta-cmake), a python wrapper of some of the exodus II library.\n",
      "\n",
      "Copyright (c) 2013, 2014, 2015, 2016, 2017 National Technology &\n",
      "Engineering Solutions of Sandia, LLC (NTESS).  Under the terms of\n",
      "Contract DE-NA0003525 with NTESS, the U.S. Government retains certain\n",
      "rights in this software.  \n",
      "\n",
      "Opening exodus file: test_organic_highres_column.exo\n",
      "Closing exodus file: test_organic_highres_column.exo\n"
     ]
    }
   ],
   "source": [
    "m3c = meshing_ats.Mesh3D.extruded_Mesh2D(m2c, layer_types,layer_data, layer_ncells, column_mat_ids)\n",
    "m3c.write_exodus(\"test_organic_highres_column.exo\")"
   ]
  },
  {
   "cell_type": "code",
   "execution_count": null,
   "metadata": {
    "collapsed": true
   },
   "outputs": [],
   "source": []
  }
 ],
 "metadata": {
  "anaconda-cloud": {},
  "kernelspec": {
   "display_name": "Python 3",
   "language": "python",
   "name": "python3"
  },
  "language_info": {
   "codemirror_mode": {
    "name": "ipython",
    "version": 3
   },
   "file_extension": ".py",
   "mimetype": "text/x-python",
   "name": "python",
   "nbconvert_exporter": "python",
   "pygments_lexer": "ipython3",
   "version": "3.8.8"
  }
 },
 "nbformat": 4,
 "nbformat_minor": 1
}
